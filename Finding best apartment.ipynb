{
 "cells": [
  {
   "cell_type": "code",
   "execution_count": 3,
   "metadata": {},
   "outputs": [
    {
     "data": {
      "text/plain": [
       "3"
      ]
     },
     "execution_count": 3,
     "metadata": {},
     "output_type": "execute_result"
    }
   ],
   "source": [
    "def Sameer_apartment(blocks, request):      #function for finding suitable apartment using given sample input\n",
    "    max_Distance_Blocks = [float() for block in blocks]\n",
    "    for i in range(len(blocks)):\n",
    "        for j in request:\n",
    "            closest_Distance = float('inf')  # 'inf' for assiging positive infinity\n",
    "            for k in range(len(blocks)):\n",
    "                if blocks[k][j]:\n",
    "                    closest_Distance = min(closest_Distance, distance_between(i, k)) #store min distance\n",
    "            max_Distance_Blocks[i] = max(max_Distance_Blocks[i], closest_Distance) #store max distance\n",
    "    return Index_Min_Value(max_Distance_Blocks)\n",
    "\n",
    "\n",
    "def distance_between(i, j):\n",
    "    return abs(i - j)\n",
    "\n",
    "\n",
    "def Index_Min_Value(array):\n",
    "    index_at_Min = 0\n",
    "    min_Value = float('inf')\n",
    "    for i in range(len(array)):\n",
    "        current_Value = array[i]\n",
    "        if current_Value < min_Value:\n",
    "            index_at_Min = i\n",
    "            min_Value = current_Value\n",
    "    return index_at_Min\n",
    "Sameer_apartment([\n",
    "{  # given sample input as per given problem statment\n",
    "\"gym\": False,\n",
    "\"school\": True,\n",
    "\"store\": False,\n",
    "},\n",
    "{\n",
    "\"gym\": True,\n",
    "\"school\": False,\n",
    "\"store\": False,\n",
    "},\n",
    "{\n",
    "\"gym\": True,\n",
    "\"school\": True,\n",
    "\"store\": False,\n",
    "},\n",
    "{\n",
    "\"gym\": False,\n",
    "\"school\": True,\n",
    "\"store\": False,\n",
    "},\n",
    "{\n",
    "\"gym\": False,\n",
    "\"school\": True,\n",
    "\"store\": True,\n",
    "},\n",
    "],[\"gym\",\"school\",\"store\"])"
   ]
  },
  {
   "cell_type": "code",
   "execution_count": 7,
   "metadata": {},
   "outputs": [
    {
     "data": {
      "text/plain": [
       "[1, 2, 3, 4]"
      ]
     },
     "execution_count": 7,
     "metadata": {},
     "output_type": "execute_result"
    }
   ],
   "source": [
    "l=[1,2,3,4]\n",
    "for i in l:\n",
    "    float(i)\n",
    "l"
   ]
  },
  {
   "cell_type": "code",
   "execution_count": 8,
   "metadata": {},
   "outputs": [
    {
     "data": {
      "text/plain": [
       "1.0"
      ]
     },
     "execution_count": 8,
     "metadata": {},
     "output_type": "execute_result"
    }
   ],
   "source": [
    "float(1)"
   ]
  },
  {
   "cell_type": "code",
   "execution_count": null,
   "metadata": {},
   "outputs": [],
   "source": []
  }
 ],
 "metadata": {
  "kernelspec": {
   "display_name": "Python 3 (ipykernel)",
   "language": "python",
   "name": "python3"
  },
  "language_info": {
   "codemirror_mode": {
    "name": "ipython",
    "version": 3
   },
   "file_extension": ".py",
   "mimetype": "text/x-python",
   "name": "python",
   "nbconvert_exporter": "python",
   "pygments_lexer": "ipython3",
   "version": "3.9.7"
  }
 },
 "nbformat": 4,
 "nbformat_minor": 2
}
